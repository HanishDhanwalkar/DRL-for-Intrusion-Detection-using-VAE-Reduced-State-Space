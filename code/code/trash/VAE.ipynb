{
  "cells": [
    {
      "cell_type": "code",
      "execution_count": 52,
      "metadata": {},
      "outputs": [],
      "source": [
        "import numpy as np\n",
        "import tensorflow as tf\n",
        "from tensorflow import keras\n",
        "from tensorflow.keras import layers\n",
        "import matplotlib.pyplot as plt\n"
      ]
    },
    {
      "cell_type": "code",
      "execution_count": 99,
      "metadata": {},
      "outputs": [],
      "source": [
        "import NSL_KDDdata\n",
        "\n",
        "x_train , y_train= NSL_KDDdata.train_data()\n",
        "x_test , y_test = NSL_KDDdata.test_data()"
      ]
    },
    {
      "cell_type": "code",
      "execution_count": null,
      "metadata": {},
      "outputs": [],
      "source": []
    },
    {
      "cell_type": "code",
      "execution_count": 100,
      "metadata": {},
      "outputs": [],
      "source": [
        "def original_dimension(x_train):\n",
        "    # print(x_train.shape[1])\n",
        "    return(x_train.shape[1])"
      ]
    },
    {
      "cell_type": "code",
      "execution_count": 101,
      "metadata": {},
      "outputs": [],
      "source": [
        "def train_test_shape(x_train, x_test):\n",
        "    return (x_train.shape, x_test.shape)"
      ]
    },
    {
      "cell_type": "code",
      "execution_count": null,
      "metadata": {},
      "outputs": [],
      "source": [
        "print(\"original dimension of training set: \",train_test_shape(x_train, x_test)[0])\n",
        "print(\"original dimension of testing set:  \",train_test_shape(x_train, x_test)[1])\n",
        "print(\"original dimension of a data point: \",train_test_shape(x_train, x_test)[1][1:])"
      ]
    },
    {
      "cell_type": "code",
      "execution_count": 132,
      "metadata": {},
      "outputs": [],
      "source": [
        "#sampling\n",
        "def sampling(args, latent_dim = 8):\n",
        "    z_mean, z_log_var = args\n",
        "    epsilon = tf.keras.backend.random_normal(shape=(tf.shape(z_mean)[0], latent_dim))\n",
        "    return z_mean + tf.exp(0.5 * z_log_var) * epsilon"
      ]
    },
    {
      "cell_type": "code",
      "execution_count": 133,
      "metadata": {},
      "outputs": [],
      "source": [
        "def VAE(latent_dim , x_train, epochs, original_dim):\n",
        "    # Encoder\n",
        "    encoder_inputs = keras.Input(shape=(original_dim,))\n",
        "    x = layers.Dense(128, activation=\"relu\")(encoder_inputs)\n",
        "    z_mean = layers.Dense(latent_dim)(x)\n",
        "    z_log_var = layers.Dense(latent_dim)(x)\n",
        "\n",
        "    # Sampling layer - samples mean and log variance of the distribution\n",
        "    z = layers.Lambda(sampling)([z_mean, z_log_var], latent_dim)\n",
        "\n",
        "    # Decoder\n",
        "    decoder_inputs = keras.Input(shape=(latent_dim,))\n",
        "    x = layers.Dense(128, activation=\"relu\")(decoder_inputs)\n",
        "    outputs = layers.Dense(original_dim, activation=\"sigmoid\")(x)\n",
        "\n",
        "    encoder = keras.Model(encoder_inputs, [z_mean, z_log_var, z], name=\"encoder\")\n",
        "    decoder = keras.Model(decoder_inputs, outputs, name=\"decoder\")\n",
        "\n",
        "    # Define the VAE model\n",
        "    outputs = decoder(encoder(encoder_inputs)[2])\n",
        "    vae = keras.Model(encoder_inputs, outputs, name=\"vae\")\n",
        "    \n",
        "\n",
        "    # Reconstruction loss\n",
        "    reconstruction_loss = keras.losses.binary_crossentropy(encoder_inputs, outputs)\n",
        "    reconstruction_loss *= original_dim\n",
        "\n",
        "    # KL loss\n",
        "    kl_loss = 1 + z_log_var - tf.square(z_mean) - tf.exp(z_log_var)\n",
        "    kl_loss = tf.reduce_sum(kl_loss, axis=-1)\n",
        "    kl_loss *= -0.5\n",
        "    vae_loss = tf.reduce_mean(reconstruction_loss + kl_loss)\n",
        "    vae.add_loss(vae_loss)\n",
        "\n",
        "\n",
        "    vae.compile(optimizer='adam')\n",
        "    vae.fit(x_train, epochs = epochs, batch_size=64)\n",
        "\n",
        "    return encoder, decoder"
      ]
    },
    {
      "cell_type": "code",
      "execution_count": 134,
      "metadata": {},
      "outputs": [
        {
          "data": {
            "text/plain": [
              "(22544, 40)"
            ]
          },
          "execution_count": 134,
          "metadata": {},
          "output_type": "execute_result"
        }
      ],
      "source": [
        "x_test.shape\n"
      ]
    },
    {
      "cell_type": "code",
      "execution_count": 135,
      "metadata": {},
      "outputs": [
        {
          "name": "stdout",
          "output_type": "stream",
          "text": [
            "Epoch 1/20\n",
            "1969/1969 [==============================] - 9s 3ms/step - loss: nan\n",
            "Epoch 2/20\n",
            "1969/1969 [==============================] - 7s 3ms/step - loss: nan\n",
            "Epoch 3/20\n",
            "1969/1969 [==============================] - 7s 3ms/step - loss: nan\n",
            "Epoch 4/20\n",
            "1969/1969 [==============================] - 7s 3ms/step - loss: nan\n",
            "Epoch 5/20\n",
            "1969/1969 [==============================] - 7s 3ms/step - loss: nan\n",
            "Epoch 6/20\n",
            "1969/1969 [==============================] - 6s 3ms/step - loss: nan\n",
            "Epoch 7/20\n",
            "1969/1969 [==============================] - 6s 3ms/step - loss: nan\n",
            "Epoch 8/20\n",
            "1969/1969 [==============================] - 6s 3ms/step - loss: nan\n",
            "Epoch 9/20\n",
            "1969/1969 [==============================] - 6s 3ms/step - loss: nan\n",
            "Epoch 10/20\n",
            "1969/1969 [==============================] - 6s 3ms/step - loss: nan\n",
            "Epoch 11/20\n",
            "1969/1969 [==============================] - 7s 3ms/step - loss: nan\n",
            "Epoch 12/20\n",
            "1969/1969 [==============================] - 7s 4ms/step - loss: nan\n",
            "Epoch 13/20\n",
            "1969/1969 [==============================] - 6s 3ms/step - loss: nan\n",
            "Epoch 14/20\n",
            "1969/1969 [==============================] - 6s 3ms/step - loss: nan\n",
            "Epoch 15/20\n",
            "1969/1969 [==============================] - 6s 3ms/step - loss: nan\n",
            "Epoch 16/20\n",
            "1969/1969 [==============================] - 7s 4ms/step - loss: nan\n",
            "Epoch 17/20\n",
            "1969/1969 [==============================] - 8s 4ms/step - loss: nan\n",
            "Epoch 18/20\n",
            "1969/1969 [==============================] - 9s 5ms/step - loss: nan\n",
            "Epoch 19/20\n",
            "1969/1969 [==============================] - 9s 4ms/step - loss: nan\n",
            "Epoch 20/20\n",
            "1969/1969 [==============================] - 7s 3ms/step - loss: nan\n"
          ]
        }
      ],
      "source": [
        "num_epohs = 20\n",
        "encoder, decoder = VAE(8 , x_train, num_epohs, original_dimension(x_train))"
      ]
    },
    {
      "cell_type": "code",
      "execution_count": 136,
      "metadata": {},
      "outputs": [
        {
          "name": "stdout",
          "output_type": "stream",
          "text": [
            "705/705 [==============================] - 1s 2ms/step\n",
            "705/705 [==============================] - 1s 2ms/step\n"
          ]
        }
      ],
      "source": [
        "compressed_data, b, c = encoder.predict(x_test)\n",
        "reconstructed_data = decoder.predict(compressed_data)"
      ]
    },
    {
      "cell_type": "code",
      "execution_count": 137,
      "metadata": {},
      "outputs": [
        {
          "data": {
            "text/plain": [
              "(22544, 8)"
            ]
          },
          "execution_count": 137,
          "metadata": {},
          "output_type": "execute_result"
        }
      ],
      "source": [
        "compressed_data.shape"
      ]
    },
    {
      "cell_type": "code",
      "execution_count": 138,
      "metadata": {},
      "outputs": [
        {
          "name": "stdout",
          "output_type": "stream",
          "text": [
            "Actual: \n",
            " [0.000e+00 1.000e+00 2.050e+02 2.845e+03 0.000e+00 0.000e+00 0.000e+00\n",
            " 0.000e+00 0.000e+00 1.000e+00 0.000e+00 0.000e+00 0.000e+00 0.000e+00\n",
            " 0.000e+00 0.000e+00 0.000e+00 0.000e+00 0.000e+00 0.000e+00 2.000e+00\n",
            " 2.000e+00 0.000e+00 0.000e+00 0.000e+00 0.000e+00 1.000e+00 0.000e+00\n",
            " 0.000e+00 3.000e+01 2.550e+02 1.000e+00 0.000e+00 3.000e-02 3.000e-02\n",
            " 0.000e+00 0.000e+00 0.000e+00 0.000e+00 2.100e+01] \n",
            "Predicted: \n",
            " [nan nan nan nan nan nan nan nan nan nan nan nan nan nan nan nan nan nan\n",
            " nan nan nan nan nan nan nan nan nan nan nan nan nan nan nan nan nan nan\n",
            " nan nan nan nan] \n",
            "Reduced Dimension: \n",
            " [nan nan nan nan nan nan nan nan]\n"
          ]
        }
      ],
      "source": [
        "import random\n",
        "\n",
        "n = 1\n",
        "\n",
        "for i in range(n):\n",
        "    a = random.randint(0, 22544)\n",
        "    print(\"Actual: \\n\", x_test[a], \"\\nPredicted: \\n\", reconstructed_data[a], \"\\nReduced Dimension: \\n\", compressed_data[a])"
      ]
    },
    {
      "cell_type": "code",
      "execution_count": 143,
      "metadata": {},
      "outputs": [
        {
          "name": "stdout",
          "output_type": "stream",
          "text": [
            "3937/3937 [==============================] - 8s 2ms/step\n",
            "705/705 [==============================] - 1s 2ms/step\n"
          ]
        }
      ],
      "source": [
        "compressed_train , _, _ = encoder.predict(x_train)\n",
        "compressed_test , _, _ = encoder.predict(x_test)"
      ]
    },
    {
      "cell_type": "code",
      "execution_count": 144,
      "metadata": {},
      "outputs": [],
      "source": [
        "import pandas as pd\n",
        "df = pd.DataFrame(compressed_train)\n",
        "df.to_csv('data/compressed_data_train.csv')\n",
        "\n",
        "df2 = pd.DataFrame(compressed_test)\n",
        "df2.to_csv('data/compressed_data_test.csv')\n"
      ]
    },
    {
      "cell_type": "code",
      "execution_count": null,
      "metadata": {},
      "outputs": [],
      "source": []
    }
  ],
  "metadata": {
    "colab": {
      "provenance": []
    },
    "kernelspec": {
      "display_name": "Python 3",
      "language": "python",
      "name": "python3"
    },
    "language_info": {
      "codemirror_mode": {
        "name": "ipython",
        "version": 3
      },
      "file_extension": ".py",
      "mimetype": "text/x-python",
      "name": "python",
      "nbconvert_exporter": "python",
      "pygments_lexer": "ipython3",
      "version": "3.10.12"
    }
  },
  "nbformat": 4,
  "nbformat_minor": 0
}
